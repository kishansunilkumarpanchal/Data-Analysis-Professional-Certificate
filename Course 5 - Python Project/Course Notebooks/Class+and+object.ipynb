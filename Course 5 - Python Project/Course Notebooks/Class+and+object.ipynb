{
 "cells": [
  {
   "cell_type": "markdown",
   "id": "450896dd",
   "metadata": {},
   "source": [
    "# CLASSES AND OBJECTS \n",
    "Python is an object oriented programming language.\n",
    "\n",
    "Almost everything in Python is an object, with its properties and methods.\n",
    "\n",
    "A Class is like an object constructor, or a \"blueprint\" for creating objects"
   ]
  },
  {
   "cell_type": "code",
   "execution_count": null,
   "id": "3abc8418",
   "metadata": {},
   "outputs": [],
   "source": [
    "# The task of constructors is to initialize(assign values) to the data members of the class \n",
    "# when an object of the class is created. Like methods, a constructor also contains a collection of statements(i.e. instructions)\n",
    "# that are executed at the time of Object creation. It is run as soon as an object of a class is instantiated. \n",
    "# The method is useful to do any initialization you want to do with your object.\n",
    "class Person:\n",
    "  def __init__(self, name, age):\n",
    "    self.name = name\n",
    "    self.age = age\n",
    "\n",
    "p1 = Person(\"John\", 36)\n",
    "\n",
    "print(p1.name, \"is\", p1.age, \"year old\")\n",
    "\n",
    "\n",
    "#The keyword self represents the instance of a class and binds the attributes with the given arguments."
   ]
  },
  {
   "cell_type": "markdown",
   "id": "400699aa",
   "metadata": {},
   "source": [
    "In Python, everything is an object. Numbers, strings, DataFrames, even functions are objects. \n",
    "In particular, everything you deal with in Python has a class, a blueprint associated with it under the hood.\n",
    "The existence of these unified interfaces is why you can use, for example, any DataFrame in the same way.\n",
    "\n",
    "You can call type() on any Python object to find out its class. \n",
    "For example, the class of a numpy array is actually called ndarray (for n-dimensional array)."
   ]
  },
  {
   "cell_type": "code",
   "execution_count": null,
   "id": "2bc8b495",
   "metadata": {},
   "outputs": [],
   "source": [
    "import numpy as np\n",
    "a = np.array([1,2,3,4])\n",
    "print(type(a))"
   ]
  },
  {
   "cell_type": "markdown",
   "id": "ba998565",
   "metadata": {},
   "source": [
    "Attributes and Methods\n",
    "\n",
    "Take a numpy array: you have already been using some of its methods and attributes!\n",
    "\n",
    "For example, every numpy array has an attribute \"shape\" \n",
    "that you can access by specifying the array's name followed by a dot and shape.\n",
    "\n",
    "It also has methods like max and reshape which are also accessible via dot."
   ]
  },
  {
   "cell_type": "code",
   "execution_count": null,
   "id": "97a41f35",
   "metadata": {},
   "outputs": [],
   "source": [
    "a.shape"
   ]
  },
  {
   "cell_type": "code",
   "execution_count": null,
   "id": "66fdd613",
   "metadata": {},
   "outputs": [],
   "source": [
    "a.reshape(2,2)"
   ]
  },
  {
   "cell_type": "markdown",
   "id": "b10aae27",
   "metadata": {},
   "source": [
    "Creating YOUR OWN Class"
   ]
  },
  {
   "cell_type": "code",
   "execution_count": 4,
   "id": "ac89bad5",
   "metadata": {},
   "outputs": [
    {
     "name": "stdout",
     "output_type": "stream",
     "text": [
      "10 12\n"
     ]
    }
   ],
   "source": [
    "class calculator:\n",
    "  def __init__(self, A, B):\n",
    "    self.A = A\n",
    "    self.B = B\n",
    "\n",
    "c = calculator(10,12)\n",
    "\n",
    "print(c.A,c.B)"
   ]
  },
  {
   "cell_type": "code",
   "execution_count": 3,
   "id": "a87bfb86",
   "metadata": {},
   "outputs": [
    {
     "name": "stdout",
     "output_type": "stream",
     "text": [
      "addition is =  30\n",
      "Subtractiuon is =  -10\n",
      "Multiplication is =  200\n"
     ]
    }
   ],
   "source": [
    "#Perform mathematical calculations\n",
    "class Person:\n",
    "  def __init__(self, A, B):\n",
    "    self.A = A\n",
    "    self.B = B\n",
    "\n",
    "  def addition(self):\n",
    "    print(\"addition is = \", self.A + self.B)\n",
    "    \n",
    "  def sub(self):\n",
    "    print(\"Subtractiuon is = \", self.A - self.B)\n",
    "    \n",
    "  def mul(self):\n",
    "    print(\"Multiplication is = \", self.A * self.B)\n",
    "\n",
    "p1 = Person(10, 20)\n",
    "p1.addition()\n",
    "p1.sub()\n",
    "p1.mul()"
   ]
  },
  {
   "cell_type": "code",
   "execution_count": 42,
   "id": "3fe339df",
   "metadata": {},
   "outputs": [
    {
     "data": {
      "text/plain": [
       "'olleh'"
      ]
     },
     "execution_count": 42,
     "metadata": {},
     "output_type": "execute_result"
    }
   ],
   "source": [
    "#To revere words\n",
    "\n",
    "class py_solution:\n",
    "  def __init__(self, s):\n",
    "    self.s=s\n",
    "    \n",
    "  def reverse_words(self):\n",
    "    return self.s[::-1]\n",
    "\n",
    "rw=py_solution(\"hello\")\n",
    "rw.reverse_words()"
   ]
  },
  {
   "cell_type": "code",
   "execution_count": 3,
   "id": "bfbbf94a",
   "metadata": {},
   "outputs": [
    {
     "data": {
      "text/plain": [
       "44"
      ]
     },
     "execution_count": 3,
     "metadata": {},
     "output_type": "execute_result"
    }
   ],
   "source": [
    "class rectangle:\n",
    "  def __init__(self, l, w):\n",
    "    self.l = l\n",
    "    self.w = w\n",
    "\n",
    "  def perimeter(self):\n",
    "    return (2*self.w) + (2*self.l)\n",
    "\n",
    "R1 = rectangle(12,10)\n",
    "R1.perimeter()"
   ]
  }
 ],
 "metadata": {
  "kernelspec": {
   "display_name": "Python 3",
   "language": "python",
   "name": "python3"
  },
  "language_info": {
   "codemirror_mode": {
    "name": "ipython",
    "version": 3
   },
   "file_extension": ".py",
   "mimetype": "text/x-python",
   "name": "python",
   "nbconvert_exporter": "python",
   "pygments_lexer": "ipython3",
   "version": "3.8.8"
  }
 },
 "nbformat": 4,
 "nbformat_minor": 5
}
