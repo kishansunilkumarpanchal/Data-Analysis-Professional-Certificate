{
 "cells": [
  {
   "cell_type": "code",
   "execution_count": null,
   "id": "16d34d0e",
   "metadata": {},
   "outputs": [],
   "source": [
    "# Import required packages\n",
    "import pandas as pd\n",
    "import dash\n",
    "import dash_core_components as dcc\n",
    "import dash_html_components as html\n",
    "import plotly.express as px\n",
    "from dash.dependencies import Input, Output\n",
    "\n",
    "\n",
    "# Add Dataframe\n",
    "# Add a bar graph figure\n",
    "\n",
    "\n",
    "app = dash.Dash()\n",
    "app.layout = html.Div(children=[html.H1(children='Dashboard', style={'textAlign':'center'})\n",
    "\n",
    "                            \n",
    "# Create dropdown\n",
    "                                \n",
    "# Bar graph\n",
    "])\n",
    "# Run Application\n",
    "if __name__ =='__main__':\n",
    "    app.run_server()"
   ]
  }
 ],
 "metadata": {
  "kernelspec": {
   "display_name": "Python 3",
   "language": "python",
   "name": "python3"
  },
  "language_info": {
   "codemirror_mode": {
    "name": "ipython",
    "version": 3
   },
   "file_extension": ".py",
   "mimetype": "text/x-python",
   "name": "python",
   "nbconvert_exporter": "python",
   "pygments_lexer": "ipython3",
   "version": "3.8.8"
  }
 },
 "nbformat": 4,
 "nbformat_minor": 5
}
