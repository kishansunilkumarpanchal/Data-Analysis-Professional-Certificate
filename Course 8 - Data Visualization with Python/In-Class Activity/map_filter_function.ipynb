{
  "cells": [
    {
      "cell_type": "markdown",
      "id": "f7beb8e7",
      "metadata": {
        "id": "f7beb8e7"
      },
      "source": [
        "# high Order Function - map ,filter , reduce "
      ]
    },
    {
      "cell_type": "code",
      "execution_count": null,
      "id": "89d6bfd3",
      "metadata": {
        "id": "89d6bfd3"
      },
      "outputs": [],
      "source": [
        "letters = ['a', 'b', 'd', 'e', 'i', 'j', 'o']\n",
        "\n",
        "# a function that returns True if letter is vowel\n",
        "def filter_vowels(letter):\n",
        "    vowels = ['a', 'e', 'i', 'o', 'u']\n",
        "    return True if letter in vowels else False\n",
        "\n",
        "filtered_vowels = filter(filter_vowels, letters)\n",
        "\n",
        "# converting to tuple\n",
        "vowels = tuple(filtered_vowels)\n",
        "print(vowels)"
      ]
    },
    {
      "cell_type": "code",
      "execution_count": null,
      "id": "a1609d1f",
      "metadata": {
        "id": "a1609d1f",
        "outputId": "80cd1848-3cfb-439e-ece1-ee64b9b48f0b"
      },
      "outputs": [
        {
          "ename": "TypeError",
          "evalue": "can only concatenate list (not \"int\") to list",
          "output_type": "error",
          "traceback": [
            "\u001b[1;31m---------------------------------------------------------------------------\u001b[0m",
            "\u001b[1;31mTypeError\u001b[0m                                 Traceback (most recent call last)",
            "\u001b[1;32m<ipython-input-17-61cd32c39c4c>\u001b[0m in \u001b[0;36m<module>\u001b[1;34m\u001b[0m\n\u001b[0;32m      1\u001b[0m \u001b[0mL\u001b[0m\u001b[1;33m=\u001b[0m\u001b[1;33m[\u001b[0m\u001b[1;36m1\u001b[0m\u001b[1;33m,\u001b[0m\u001b[1;36m2\u001b[0m\u001b[1;33m,\u001b[0m\u001b[1;36m3\u001b[0m\u001b[1;33m,\u001b[0m\u001b[1;36m4\u001b[0m\u001b[1;33m,\u001b[0m\u001b[1;36m5\u001b[0m\u001b[1;33m]\u001b[0m\u001b[1;33m\u001b[0m\u001b[1;33m\u001b[0m\u001b[0m\n\u001b[1;32m----> 2\u001b[1;33m \u001b[0mprint\u001b[0m\u001b[1;33m(\u001b[0m\u001b[0mL\u001b[0m\u001b[1;33m+\u001b[0m\u001b[1;36m2\u001b[0m\u001b[1;33m)\u001b[0m\u001b[1;33m\u001b[0m\u001b[1;33m\u001b[0m\u001b[0m\n\u001b[0m",
            "\u001b[1;31mTypeError\u001b[0m: can only concatenate list (not \"int\") to list"
          ]
        }
      ],
      "source": [
        "L=[1,2,3,4,5]\n",
        "print(L+2)"
      ]
    },
    {
      "cell_type": "code",
      "execution_count": null,
      "id": "a394a43d",
      "metadata": {
        "id": "a394a43d",
        "outputId": "65e26fb4-152f-4567-e589-1d779e58ed6d"
      },
      "outputs": [
        {
          "name": "stdout",
          "output_type": "stream",
          "text": [
            "[2 3 4 5 6 7 8]\n",
            "[ 4  5  6  7  8  9 10]\n"
          ]
        }
      ],
      "source": [
        "import numpy as np\n",
        "a=np.array(np.arange(2,9))\n",
        "print(a)\n",
        "print(a+2)"
      ]
    },
    {
      "cell_type": "code",
      "execution_count": null,
      "id": "d8338000",
      "metadata": {
        "id": "d8338000",
        "outputId": "8e138816-ff62-4491-8dd0-c7ad2464ae13"
      },
      "outputs": [
        {
          "name": "stdout",
          "output_type": "stream",
          "text": [
            "[303.8049, 0.9801, 46.376099999999994, 150.0625, 20.430399999999995]\n"
          ]
        }
      ],
      "source": [
        "my_list= [17.43, -0.99, 6.81, -12.25, 4.52]\n",
        "my_list_squared = []\n",
        "for i in my_list:\n",
        "    i_squared = i**2\n",
        "    my_list_squared.append(i_squared)\n",
        "    \n",
        "print(my_list_squared)"
      ]
    },
    {
      "cell_type": "markdown",
      "id": "d91fb5e4",
      "metadata": {
        "id": "d91fb5e4"
      },
      "source": [
        "# The filter() function returns an iterator were the items are filtered through a function to test if the item is accepted or not."
      ]
    },
    {
      "cell_type": "code",
      "execution_count": null,
      "id": "51553611",
      "metadata": {
        "id": "51553611",
        "outputId": "aee391fe-ba73-4403-c8e6-7b639487bacb"
      },
      "outputs": [
        {
          "name": "stdout",
          "output_type": "stream",
          "text": [
            "<filter object at 0x0000023799055CA0>\n",
            "[3, 4]\n"
          ]
        }
      ],
      "source": [
        "def func(x):\n",
        "    if x>=3:\n",
        "        return x\n",
        "    \n",
        "    \n",
        "y = filter(func, (1,2,3,4))  \n",
        "print(y)\n",
        "print(list(y))"
      ]
    },
    {
      "cell_type": "code",
      "execution_count": null,
      "id": "cee16354",
      "metadata": {
        "id": "cee16354",
        "outputId": "627499e2-6b10-40f6-b63c-f919d161236f"
      },
      "outputs": [
        {
          "name": "stdout",
          "output_type": "stream",
          "text": [
            "[2, 4, 6]\n"
          ]
        }
      ],
      "source": [
        "numbers = [1, 2, 3, 4, 5, 6, 7]\n",
        "\n",
        "# the lambda function returns True for even numbers \n",
        "even_numbers_iterator = filter(lambda x: (x%2 == 0), numbers)\n",
        "\n",
        "# converting to list\n",
        "even_numbers = list(even_numbers_iterator)\n",
        "\n",
        "print(even_numbers)"
      ]
    },
    {
      "cell_type": "code",
      "execution_count": null,
      "id": "3a2711fe",
      "metadata": {
        "id": "3a2711fe",
        "outputId": "3d5d098d-4bf4-423e-dd1b-1104004a4420"
      },
      "outputs": [
        {
          "name": "stdout",
          "output_type": "stream",
          "text": [
            "(8, 10, 25, 100, 57, 65, 80, 26, 76, 64)\n"
          ]
        }
      ],
      "source": [
        "    #LAMBDA FUNCTIONS\n",
        "\n",
        "tup= (5, 7, 22, 97, 54, 62, 77, 23, 73, 61)\n",
        "\n",
        "\n",
        "newtuple = tuple(map(lambda x: x+3 , tup)) \n",
        "print(newtuple)\n",
        "\n"
      ]
    },
    {
      "cell_type": "code",
      "execution_count": null,
      "id": "253597bd",
      "metadata": {
        "id": "253597bd",
        "outputId": "21462863-39f3-4916-b206-f89075b28b13"
      },
      "outputs": [
        {
          "name": "stdout",
          "output_type": "stream",
          "text": [
            "[1, 4, 9, 16, 25]\n"
          ]
        }
      ],
      "source": [
        "def square(number):\n",
        "    return number ** 2\n",
        "\n",
        "numbers = [1, 2, 3, 4, 5]\n",
        "squared = map(square, numbers)\n",
        "\n",
        "print(list(squared))\n"
      ]
    },
    {
      "cell_type": "code",
      "execution_count": null,
      "id": "58731e8a",
      "metadata": {
        "id": "58731e8a",
        "outputId": "70a1a65c-8fdb-4c27-913b-1cac937ec1a1"
      },
      "outputs": [
        {
          "name": "stdout",
          "output_type": "stream",
          "text": [
            "[7, 2, 4, 6]\n"
          ]
        }
      ],
      "source": [
        "words = [\"Welcome\", \"to\", \"Real\", \"Python\"]\n",
        "\n",
        "print(list(map(len, words)))"
      ]
    },
    {
      "cell_type": "code",
      "execution_count": null,
      "id": "8da07d45",
      "metadata": {
        "id": "8da07d45"
      },
      "outputs": [],
      "source": [
        ""
      ]
    },
    {
      "cell_type": "markdown",
      "id": "35b7aabf",
      "metadata": {
        "id": "35b7aabf"
      },
      "source": [
        "# Python’s map() is a built-in function that allows you to process and transform all the items in an iterable without using an explicit for loop, a technique commonly known as mapping. map() is useful when you need to apply a transformation function to each item in an iterable and transform them into a new iterable. map() is one of the tools that support a functional programming style in Python."
      ]
    },
    {
      "cell_type": "code",
      "execution_count": null,
      "id": "1e253c61",
      "metadata": {
        "id": "1e253c61",
        "outputId": "60d1b46c-733d-4fb3-dd4e-f746c6f24ba1"
      },
      "outputs": [
        {
          "name": "stdout",
          "output_type": "stream",
          "text": [
            "0 + 1 = 1\n",
            "1 + 2 = 3\n",
            "3 + 3 = 6\n",
            "6 + 4 = 10\n"
          ]
        },
        {
          "data": {
            "text/plain": [
              "10"
            ]
          },
          "execution_count": 16,
          "metadata": {},
          "output_type": "execute_result"
        }
      ],
      "source": [
        "def my_add(a, b):\n",
        "   result = a + b\n",
        "   print(f\"{a} + {b} = {result}\")\n",
        "   return result\n",
        "\n",
        "\n",
        "from functools import reduce\n",
        "\n",
        "numbers = [0, 1, 2, 3, 4]\n",
        "\n",
        "reduce(my_add, numbers)"
      ]
    },
    {
      "cell_type": "code",
      "execution_count": null,
      "id": "113d9905",
      "metadata": {
        "id": "113d9905"
      },
      "outputs": [],
      "source": [
        ""
      ]
    }
  ],
  "metadata": {
    "kernelspec": {
      "display_name": "Python 3",
      "language": "python",
      "name": "python3"
    },
    "language_info": {
      "codemirror_mode": {
        "name": "ipython",
        "version": 3
      },
      "file_extension": ".py",
      "mimetype": "text/x-python",
      "name": "python",
      "nbconvert_exporter": "python",
      "pygments_lexer": "ipython3",
      "version": "3.8.8"
    },
    "colab": {
      "name": "map filter function.ipynb",
      "provenance": []
    }
  },
  "nbformat": 4,
  "nbformat_minor": 5
}