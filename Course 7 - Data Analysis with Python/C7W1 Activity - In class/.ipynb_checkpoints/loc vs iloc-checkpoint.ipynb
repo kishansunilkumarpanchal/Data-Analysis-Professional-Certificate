{
 "cells": [
  {
   "cell_type": "code",
   "execution_count": null,
   "id": "7feb2768",
   "metadata": {},
   "outputs": [],
   "source": [
    "# loc in Pandas\n",
    "# loc is label-based, which means that we have to specify the name of the rows and columns that we need to filter out.\n",
    "\n",
    "# For example, let’s say we search for the rows whose index is 1, 2 or 100. We will not get the first, second or the hundredth row here. Instead, we will get the results only if the name of any index is 1, 2 or 100.\n",
    "\n",
    "# So, we can filter the data using the loc function in Pandas even if the indices are not an integer in our dataset."
   ]
  },
  {
   "cell_type": "code",
   "execution_count": null,
   "id": "af16aa7f",
   "metadata": {},
   "outputs": [],
   "source": [
    "'''iloc in Pandas\n",
    "On the other hand, iloc is integer index-based. So here, we have to specify rows and columns by their integer index.\n",
    "\n",
    "Let’s say we search for the rows with index 1, 2 or 100. It will return the first, second and hundredth row, regardless of the name or labels we have in the index in our dataset.\n",
    "\n",
    "We will see multiple examples in this article on how to use loc and iloc for the data selection and data update process in Python.'''"
   ]
  },
  {
   "cell_type": "code",
   "execution_count": 1,
   "id": "78b11dff",
   "metadata": {},
   "outputs": [],
   "source": [
    "import pandas as pd"
   ]
  },
  {
   "cell_type": "code",
   "execution_count": 2,
   "id": "7e33c9e5",
   "metadata": {},
   "outputs": [],
   "source": [
    "#Import the json in a dataframe\n",
    "\n",
    "df = pd.read_json(\"C:\\\\Users\\Kishan Panchal\\Downloads\\Course 7 - Data Analysis with Python\\C7W1 Activity - In class\\Jay (1).json\")"
   ]
  },
  {
   "cell_type": "code",
   "execution_count": 3,
   "id": "3156f34f",
   "metadata": {},
   "outputs": [
    {
     "data": {
      "text/html": [
       "<div>\n",
       "<style scoped>\n",
       "    .dataframe tbody tr th:only-of-type {\n",
       "        vertical-align: middle;\n",
       "    }\n",
       "\n",
       "    .dataframe tbody tr th {\n",
       "        vertical-align: top;\n",
       "    }\n",
       "\n",
       "    .dataframe thead th {\n",
       "        text-align: right;\n",
       "    }\n",
       "</style>\n",
       "<table border=\"1\" class=\"dataframe\">\n",
       "  <thead>\n",
       "    <tr style=\"text-align: right;\">\n",
       "      <th></th>\n",
       "      <th>Duration</th>\n",
       "      <th>Pulse</th>\n",
       "      <th>Maxpulse</th>\n",
       "      <th>Calories</th>\n",
       "    </tr>\n",
       "  </thead>\n",
       "  <tbody>\n",
       "    <tr>\n",
       "      <th>0</th>\n",
       "      <td>60</td>\n",
       "      <td>110</td>\n",
       "      <td>130</td>\n",
       "      <td>409.1</td>\n",
       "    </tr>\n",
       "    <tr>\n",
       "      <th>1</th>\n",
       "      <td>60</td>\n",
       "      <td>117</td>\n",
       "      <td>145</td>\n",
       "      <td>479.0</td>\n",
       "    </tr>\n",
       "    <tr>\n",
       "      <th>2</th>\n",
       "      <td>60</td>\n",
       "      <td>103</td>\n",
       "      <td>135</td>\n",
       "      <td>340.0</td>\n",
       "    </tr>\n",
       "    <tr>\n",
       "      <th>3</th>\n",
       "      <td>45</td>\n",
       "      <td>109</td>\n",
       "      <td>175</td>\n",
       "      <td>282.4</td>\n",
       "    </tr>\n",
       "    <tr>\n",
       "      <th>4</th>\n",
       "      <td>45</td>\n",
       "      <td>117</td>\n",
       "      <td>148</td>\n",
       "      <td>406.0</td>\n",
       "    </tr>\n",
       "  </tbody>\n",
       "</table>\n",
       "</div>"
      ],
      "text/plain": [
       "   Duration  Pulse  Maxpulse  Calories\n",
       "0        60    110       130     409.1\n",
       "1        60    117       145     479.0\n",
       "2        60    103       135     340.0\n",
       "3        45    109       175     282.4\n",
       "4        45    117       148     406.0"
      ]
     },
     "execution_count": 3,
     "metadata": {},
     "output_type": "execute_result"
    }
   ],
   "source": [
    "df.head()"
   ]
  },
  {
   "cell_type": "code",
   "execution_count": 12,
   "id": "4f70063b",
   "metadata": {},
   "outputs": [
    {
     "data": {
      "text/plain": [
       "1    479.0\n",
       "2    340.0\n",
       "3    282.4\n",
       "Name: Calories, dtype: float64"
      ]
     },
     "execution_count": 12,
     "metadata": {},
     "output_type": "execute_result"
    }
   ],
   "source": [
    "#dataframe.loc[row_index,'coumn_name']\n",
    "df.loc[1:3,'Calories']"
   ]
  },
  {
   "cell_type": "code",
   "execution_count": 14,
   "id": "39c17520",
   "metadata": {},
   "outputs": [
    {
     "data": {
      "text/plain": [
       "0       409.1\n",
       "3       282.4\n",
       "6       374.0\n",
       "9       269.0\n",
       "12      345.3\n",
       "15      215.2\n",
       "18      323.0\n",
       "21      282.0\n",
       "24      334.5\n",
       "27        NaN\n",
       "30      243.0\n",
       "33      223.0\n",
       "36      300.5\n",
       "39      266.0\n",
       "42      329.4\n",
       "45      273.0\n",
       "48      298.0\n",
       "51      643.1\n",
       "54      238.0\n",
       "57      305.0\n",
       "60     1376.0\n",
       "63      341.0\n",
       "66      873.4\n",
       "69     1500.2\n",
       "72      700.0\n",
       "75      563.2\n",
       "78      500.4\n",
       "81      344.0\n",
       "84      225.3\n",
       "87     1000.1\n",
       "90      600.1\n",
       "93       50.5\n",
       "96      128.2\n",
       "99      604.1\n",
       "102     500.0\n",
       "105     124.0\n",
       "108     500.3\n",
       "111     275.0\n",
       "114     367.6\n",
       "117     277.4\n",
       "120     193.9\n",
       "123     344.9\n",
       "126     275.3\n",
       "129     384.0\n",
       "132     335.0\n",
       "135     189.0\n",
       "138     308.0\n",
       "141       NaN\n",
       "144     470.2\n",
       "147     361.9\n",
       "150     343.0\n",
       "153     275.8\n",
       "156     270.4\n",
       "159     240.9\n",
       "162     270.0\n",
       "165     300.4\n",
       "168     330.4\n",
       "Name: Calories, dtype: float64"
      ]
     },
     "execution_count": 14,
     "metadata": {},
     "output_type": "execute_result"
    }
   ],
   "source": [
    "#dataframe.iloc[row_index,coumn_index]\n",
    "df.iloc[::3,3]"
   ]
  }
 ],
 "metadata": {
  "kernelspec": {
   "display_name": "Python 3",
   "language": "python",
   "name": "python3"
  },
  "language_info": {
   "codemirror_mode": {
    "name": "ipython",
    "version": 3
   },
   "file_extension": ".py",
   "mimetype": "text/x-python",
   "name": "python",
   "nbconvert_exporter": "python",
   "pygments_lexer": "ipython3",
   "version": "3.8.8"
  }
 },
 "nbformat": 4,
 "nbformat_minor": 5
}
